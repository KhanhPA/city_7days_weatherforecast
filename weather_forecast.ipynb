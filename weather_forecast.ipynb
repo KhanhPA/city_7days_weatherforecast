{
 "cells": [
  {
   "cell_type": "code",
   "execution_count": 3,
   "id": "07781d59",
   "metadata": {},
   "outputs": [
    {
     "name": "stdout",
     "output_type": "stream",
     "text": [
      "Status code: 200\n"
     ]
    },
    {
     "data": {
      "text/plain": [
       "'hanoi_weather.html'"
      ]
     },
     "execution_count": 3,
     "metadata": {},
     "output_type": "execute_result"
    }
   ],
   "source": [
    "import requests\n",
    "import json\n",
    "import datetime, pytz\n",
    "from plotly.graph_objs import Scatter\n",
    "from plotly import offline\n",
    "\n",
    "# Store the api key\n",
    "open_weather_api_key = 'f76f1ec856d79124b38105bac57bee38'\n",
    "\n",
    "def get_weather_forecast_data(city):\n",
    "    \"\"\"A function to get the weather data with provided city names and optional period\"\"\"\n",
    "    \n",
    "    url = f'https://api.openweathermap.org/data/2.5/forecast/daily?q={city}&cnt=8&appid={open_weather_api_key}&units=metric'\n",
    "    headers = {'Accept': 'application/vnd.github.v3+json'}\n",
    "    r = requests.get(url, headers=headers)\n",
    "    print(f\"Status code: {r.status_code}\")\n",
    "\n",
    "    if r.status_code == 200:\n",
    "        return r.json()\n",
    "    else:\n",
    "        return None\n",
    "\n",
    "# Process results\n",
    "forecast_city = 'Ha Noi'\n",
    "location = forecast_city.title()\n",
    "response_dict = get_weather_forecast_data(location)\n",
    "\n",
    "# Store the data in a json file\n",
    "filename = 'weather_forecast_city.json'\n",
    "with open(filename, 'w') as f:\n",
    "    json.dump(response_dict, f, indent=4)\n",
    "\n",
    "days = []\n",
    "temps = []\n",
    "labels = []\n",
    "# Formatting the returned data\n",
    "for index in range(0,8):\n",
    "    # Convert the time from Epoch Unix Timestamp to GMT\n",
    "    local_time = datetime.datetime.fromtimestamp(response_dict['list'][index]['dt'] , tz=pytz.timezone('Asia/Ho_Chi_Minh'))\n",
    "    \n",
    "    # Add the data into lists\n",
    "    days.append(local_time.strftime( '%a %d/%m ' ))\n",
    "    temps.append(response_dict['list'][index]['temp']['day'])\n",
    "    labels.append(f\"Min temp: {response_dict['list'][index]['temp']['min']}°C\" +\n",
    "                  f\"<br />Max temp: {response_dict['list'][index]['temp']['max']}°C\" +\n",
    "                  f\"<br />Feels like: {response_dict['list'][index]['feels_like']['day']}°C\" + \n",
    "                  f\"<br />Humidity: {response_dict['list'][index]['humidity']}%\" + \n",
    "                  f\"<br />Forecast: {response_dict['list'][index]['weather'][0]['main']}\")\n",
    "    \n",
    "# Make visualization\n",
    "data = [{\n",
    "    'type': 'scatter', \n",
    "    'x': days, \n",
    "    'y': temps,\n",
    "    'hoverinfo': 'text', \n",
    "    'hovertext': labels,\n",
    "    'hoverlabel': {\n",
    "        'bgcolor': 'rgb(250,250,250)'\n",
    "    }, \n",
    "    'marker': {\n",
    "        'color': 'rgb(60,100,150)', \n",
    "        'line': {'width': 3, 'color': 'rgb(25,25,25)'},\n",
    "    },\n",
    "    'text': temps,\n",
    "    'textposition': 'bottom right',\n",
    "    'textfont': {\n",
    "        'size': 13, \n",
    "        'color': 'rgb(0,0,0)',\n",
    "    }, \n",
    "    'mode':'lines+markers+text',\n",
    "    'opacity': 1,\n",
    "    'line': {\n",
    "        'color': 'rgb(220, 20, 60)',\n",
    "        'width': 4, \n",
    "        'smoothing': 1\n",
    "    },\n",
    "}]\n",
    "\n",
    "my_layout = {\n",
    "    'title': f'Temperatures of the next 7 days in {location}',\n",
    "    'plot_bgcolor': 'rgb(230,230,230)', \n",
    "    'titlefont': {'size': 28}, \n",
    "    'xaxis': {\n",
    "        'title': 'Date', \n",
    "        'titlefont': {'size': 24}, \n",
    "        'tickfont': {'size': 14},\n",
    "    }, \n",
    "    'yaxis': {\n",
    "        'title': 'Temperature (°C)', \n",
    "        'titlefont': {'size': 24},\n",
    "        'tickfont': {'size': 14},\n",
    "    }, \n",
    "}\n",
    "\n",
    "fig = {'data': data, 'layout': my_layout}\n",
    "offline.plot(fig, filename='weather.html')   "
   ]
  },
  {
   "cell_type": "code",
   "execution_count": null,
   "id": "8799b830",
   "metadata": {},
   "outputs": [],
   "source": []
  },
  {
   "cell_type": "code",
   "execution_count": null,
   "id": "285f5f25",
   "metadata": {},
   "outputs": [],
   "source": []
  },
  {
   "cell_type": "code",
   "execution_count": null,
   "id": "7d76dc73",
   "metadata": {},
   "outputs": [],
   "source": []
  },
  {
   "cell_type": "code",
   "execution_count": null,
   "id": "ade5b67c",
   "metadata": {},
   "outputs": [],
   "source": []
  },
  {
   "cell_type": "code",
   "execution_count": null,
   "id": "628f8104",
   "metadata": {},
   "outputs": [],
   "source": []
  },
  {
   "cell_type": "code",
   "execution_count": null,
   "id": "58106130",
   "metadata": {},
   "outputs": [],
   "source": []
  },
  {
   "cell_type": "code",
   "execution_count": null,
   "id": "e8b7383a",
   "metadata": {},
   "outputs": [],
   "source": []
  },
  {
   "cell_type": "code",
   "execution_count": null,
   "id": "a08b1545",
   "metadata": {},
   "outputs": [],
   "source": []
  },
  {
   "cell_type": "code",
   "execution_count": null,
   "id": "aa77e000",
   "metadata": {},
   "outputs": [],
   "source": []
  },
  {
   "cell_type": "code",
   "execution_count": null,
   "id": "98b7498c",
   "metadata": {},
   "outputs": [],
   "source": []
  },
  {
   "cell_type": "code",
   "execution_count": null,
   "id": "b3581a26",
   "metadata": {},
   "outputs": [],
   "source": []
  },
  {
   "cell_type": "code",
   "execution_count": null,
   "id": "875173da",
   "metadata": {},
   "outputs": [],
   "source": []
  },
  {
   "cell_type": "code",
   "execution_count": null,
   "id": "af2be14e",
   "metadata": {},
   "outputs": [],
   "source": []
  },
  {
   "cell_type": "code",
   "execution_count": null,
   "id": "bfaecfea",
   "metadata": {},
   "outputs": [],
   "source": []
  },
  {
   "cell_type": "code",
   "execution_count": null,
   "id": "8ea288f1",
   "metadata": {},
   "outputs": [],
   "source": []
  },
  {
   "cell_type": "code",
   "execution_count": null,
   "id": "07a2df6f",
   "metadata": {},
   "outputs": [],
   "source": []
  }
 ],
 "metadata": {
  "kernelspec": {
   "display_name": "Python 3 (ipykernel)",
   "language": "python",
   "name": "python3"
  },
  "language_info": {
   "codemirror_mode": {
    "name": "ipython",
    "version": 3
   },
   "file_extension": ".py",
   "mimetype": "text/x-python",
   "name": "python",
   "nbconvert_exporter": "python",
   "pygments_lexer": "ipython3",
   "version": "3.9.13"
  }
 },
 "nbformat": 4,
 "nbformat_minor": 5
}
